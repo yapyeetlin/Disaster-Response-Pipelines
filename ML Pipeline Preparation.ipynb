{
 "cells": [
  {
   "cell_type": "markdown",
   "metadata": {},
   "source": [
    "# ML Pipeline Preparation\n",
    "Follow the instructions below to help you create your ML pipeline.\n",
    "### 1. Import libraries and load data from database.\n",
    "- Import Python libraries\n",
    "- Load dataset from database with [`read_sql_table`](https://pandas.pydata.org/pandas-docs/stable/generated/pandas.read_sql_table.html)\n",
    "- Define feature and target variables X and Y"
   ]
  },
  {
   "cell_type": "code",
   "execution_count": 26,
   "metadata": {
    "scrolled": true
   },
   "outputs": [],
   "source": [
    "# import libraries\n",
    "import pandas as pd\n",
    "import numpy as np\n",
    "from sqlalchemy import create_engine\n",
    "\n",
    "from nltk.stem import WordNetLemmatizer\n",
    "from nltk.tokenize import RegexpTokenizer\n",
    "\n",
    "from sklearn.pipeline import Pipeline, FeatureUnion\n",
    "from sklearn.model_selection import train_test_split, GridSearchCV\n",
    "from sklearn.feature_extraction.text import CountVectorizer, TfidfTransformer, HashingVectorizer\n",
    "from sklearn.multioutput import MultiOutputClassifier\n",
    "from sklearn.tree import DecisionTreeClassifier\n",
    "from sklearn.ensemble import RandomForestClassifier\n",
    "from sklearn.metrics import classification_report\n",
    "from sklearn.externals import joblib"
   ]
  },
  {
   "cell_type": "code",
   "execution_count": 2,
   "metadata": {
    "scrolled": true
   },
   "outputs": [],
   "source": [
    "# load data from database\n",
    "engine = create_engine('sqlite:///DisasterResponse.db')\n",
    "df = pd.read_sql_table('DisasterResponse', engine)  \n",
    "X = df[\"message\"]\n",
    "Y = df.iloc[:,-36:]"
   ]
  },
  {
   "cell_type": "markdown",
   "metadata": {},
   "source": [
    "### 2. Write a tokenization function to process your text data"
   ]
  },
  {
   "cell_type": "code",
   "execution_count": 3,
   "metadata": {
    "scrolled": true
   },
   "outputs": [],
   "source": [
    "def tokenize(text):\n",
    "    tokenizer = RegexpTokenizer(r'\\w+')\n",
    "    lemmatizer = WordNetLemmatizer()\n",
    "\n",
    "    tokens = tokenizer.tokenize(text)\n",
    "\n",
    "    clean_tokens = []\n",
    "    for tok in tokens:\n",
    "        clean_tok = lemmatizer.lemmatize(tok).lower().strip()\n",
    "        clean_tokens.append(clean_tok)\n",
    "\n",
    "    return clean_tokens"
   ]
  },
  {
   "cell_type": "markdown",
   "metadata": {},
   "source": [
    "### 3. Build a machine learning pipeline\n",
    "This machine pipeline should take in the `message` column as input and output classification results on the other 36 categories in the dataset. You may find the [MultiOutputClassifier](http://scikit-learn.org/stable/modules/generated/sklearn.multioutput.MultiOutputClassifier.html) helpful for predicting multiple target variables."
   ]
  },
  {
   "cell_type": "code",
   "execution_count": 4,
   "metadata": {
    "scrolled": true
   },
   "outputs": [],
   "source": [
    "'''\n",
    "This model uses the following steps recommended in \n",
    "https://towardsdatascience.com/machine-learning-nlp-text-classification-using-scikit-learn-python-and-nltk-c52b92a7c73a \n",
    "for multi-output classification task:\n",
    "1. CountVectorizer()\n",
    "2. TfidfTransformer()\n",
    "3. Classifier\n",
    "\n",
    "'''\n",
    "\n",
    "pipeline =  Pipeline([\n",
    "                ('vect', CountVectorizer(tokenizer=tokenize)),\n",
    "                ('tfidf', TfidfTransformer()),\n",
    "                ('clf', MultiOutputClassifier(DecisionTreeClassifier()))\n",
    "                ])"
   ]
  },
  {
   "cell_type": "markdown",
   "metadata": {},
   "source": [
    "### 4. Train pipeline\n",
    "- Split data into train and test sets\n",
    "- Train pipeline"
   ]
  },
  {
   "cell_type": "code",
   "execution_count": 9,
   "metadata": {
    "scrolled": true
   },
   "outputs": [
    {
     "name": "stdout",
     "output_type": "stream",
     "text": [
      "[nltk_data] Downloading package wordnet to /root/nltk_data...\n"
     ]
    },
    {
     "data": {
      "text/plain": [
       "True"
      ]
     },
     "execution_count": 9,
     "metadata": {},
     "output_type": "execute_result"
    }
   ],
   "source": [
    "import nltk\n",
    "nltk.download('wordnet')"
   ]
  },
  {
   "cell_type": "code",
   "execution_count": 7,
   "metadata": {
    "scrolled": true
   },
   "outputs": [
    {
     "data": {
      "text/plain": [
       "Pipeline(memory=None,\n",
       "     steps=[('vect', CountVectorizer(analyzer='word', binary=False, decode_error='strict',\n",
       "        dtype=<class 'numpy.int64'>, encoding='utf-8', input='content',\n",
       "        lowercase=True, max_df=1.0, max_features=None, min_df=1,\n",
       "        ngram_range=(1, 1), preprocessor=None, stop_words=None,\n",
       "        strip...ion_leaf=0.0, presort=False, random_state=None,\n",
       "            splitter='best'),\n",
       "           n_jobs=1))])"
      ]
     },
     "execution_count": 7,
     "metadata": {},
     "output_type": "execute_result"
    }
   ],
   "source": [
    "# Split data into train and test\n",
    "X_train, X_test, y_train, y_test = train_test_split(X, Y, test_size=0.2, random_state=21)\n",
    "\n",
    "# Train pipeline\n",
    "pipeline.fit(X_train, y_train)"
   ]
  },
  {
   "cell_type": "markdown",
   "metadata": {},
   "source": [
    "### 5. Test your model\n",
    "Report the f1 score, precision and recall for each output category of the dataset. You can do this by iterating through the columns and calling sklearn's `classification_report` on each."
   ]
  },
  {
   "cell_type": "code",
   "execution_count": 8,
   "metadata": {
    "scrolled": true
   },
   "outputs": [
    {
     "name": "stdout",
     "output_type": "stream",
     "text": [
      "                        precision    recall  f1-score   support\n",
      "\n",
      "               related       0.84      0.84      0.84      4037\n",
      "               request       0.55      0.56      0.56       877\n",
      "                 offer       0.05      0.05      0.05        21\n",
      "           aid_related       0.63      0.61      0.62      2158\n",
      "          medical_help       0.37      0.30      0.33       432\n",
      "      medical_products       0.35      0.36      0.36       252\n",
      "     search_and_rescue       0.32      0.23      0.27       171\n",
      "              security       0.06      0.05      0.05       106\n",
      "              military       0.38      0.38      0.38       172\n",
      "           child_alone       0.00      0.00      0.00         0\n",
      "                 water       0.65      0.63      0.64       320\n",
      "                  food       0.70      0.72      0.71       574\n",
      "               shelter       0.59      0.59      0.59       442\n",
      "              clothing       0.52      0.45      0.48        84\n",
      "                 money       0.34      0.33      0.33       138\n",
      "        missing_people       0.24      0.20      0.22        60\n",
      "              refugees       0.31      0.24      0.27       159\n",
      "                 death       0.59      0.52      0.55       258\n",
      "             other_aid       0.31      0.29      0.30       699\n",
      "infrastructure_related       0.16      0.13      0.15       334\n",
      "             transport       0.29      0.24      0.26       261\n",
      "             buildings       0.45      0.41      0.43       294\n",
      "           electricity       0.40      0.34      0.37       129\n",
      "                 tools       0.19      0.13      0.15        31\n",
      "             hospitals       0.20      0.15      0.17        60\n",
      "                 shops       0.04      0.05      0.04        22\n",
      "           aid_centers       0.05      0.03      0.04        58\n",
      "  other_infrastructure       0.16      0.14      0.14       237\n",
      "       weather_related       0.74      0.71      0.73      1433\n",
      "                floods       0.64      0.59      0.61       439\n",
      "                 storm       0.65      0.64      0.65       482\n",
      "                  fire       0.36      0.38      0.37        63\n",
      "            earthquake       0.79      0.78      0.78       482\n",
      "                  cold       0.56      0.46      0.51       110\n",
      "         other_weather       0.22      0.22      0.22       249\n",
      "         direct_report       0.51      0.49      0.50       988\n",
      "\n",
      "           avg / total       0.60      0.59      0.59     16632\n",
      "\n"
     ]
    },
    {
     "name": "stderr",
     "output_type": "stream",
     "text": [
      "/opt/conda/lib/python3.6/site-packages/sklearn/metrics/classification.py:1135: UndefinedMetricWarning: Precision and F-score are ill-defined and being set to 0.0 in labels with no predicted samples.\n",
      "  'precision', 'predicted', average, warn_for)\n",
      "/opt/conda/lib/python3.6/site-packages/sklearn/metrics/classification.py:1137: UndefinedMetricWarning: Recall and F-score are ill-defined and being set to 0.0 in labels with no true samples.\n",
      "  'recall', 'true', average, warn_for)\n"
     ]
    }
   ],
   "source": [
    "# Infer test data with trained model\n",
    "y_pred = pipeline.predict(X_test)\n",
    "y_pred = pd.DataFrame(y_pred, columns=y_test.columns)\n",
    "\n",
    "print(classification_report(y_test.values, y_pred.values, target_names=y_test.columns.values))"
   ]
  },
  {
   "cell_type": "code",
   "execution_count": 9,
   "metadata": {
    "scrolled": true
   },
   "outputs": [
    {
     "name": "stdout",
     "output_type": "stream",
     "text": [
      "related\n",
      "             precision    recall  f1-score   support\n",
      "\n",
      "          0       0.46      0.46      0.46      1207\n",
      "          1       0.84      0.84      0.84      4037\n",
      "\n",
      "avg / total       0.75      0.75      0.75      5244\n",
      "\n",
      "request\n",
      "             precision    recall  f1-score   support\n",
      "\n",
      "          0       0.91      0.91      0.91      4367\n",
      "          1       0.55      0.56      0.56       877\n",
      "\n",
      "avg / total       0.85      0.85      0.85      5244\n",
      "\n",
      "offer\n",
      "             precision    recall  f1-score   support\n",
      "\n",
      "          0       1.00      1.00      1.00      5223\n",
      "          1       0.05      0.05      0.05        21\n",
      "\n",
      "avg / total       0.99      0.99      0.99      5244\n",
      "\n",
      "aid_related\n",
      "             precision    recall  f1-score   support\n",
      "\n",
      "          0       0.73      0.75      0.74      3086\n",
      "          1       0.63      0.61      0.62      2158\n",
      "\n",
      "avg / total       0.69      0.69      0.69      5244\n",
      "\n",
      "medical_help\n",
      "             precision    recall  f1-score   support\n",
      "\n",
      "          0       0.94      0.95      0.95      4812\n",
      "          1       0.37      0.30      0.33       432\n",
      "\n",
      "avg / total       0.89      0.90      0.89      5244\n",
      "\n",
      "medical_products\n",
      "             precision    recall  f1-score   support\n",
      "\n",
      "          0       0.97      0.97      0.97      4992\n",
      "          1       0.35      0.36      0.36       252\n",
      "\n",
      "avg / total       0.94      0.94      0.94      5244\n",
      "\n",
      "search_and_rescue\n",
      "             precision    recall  f1-score   support\n",
      "\n",
      "          0       0.97      0.98      0.98      5073\n",
      "          1       0.32      0.23      0.27       171\n",
      "\n",
      "avg / total       0.95      0.96      0.96      5244\n",
      "\n",
      "security\n",
      "             precision    recall  f1-score   support\n",
      "\n",
      "          0       0.98      0.99      0.98      5138\n",
      "          1       0.06      0.05      0.05       106\n",
      "\n",
      "avg / total       0.96      0.97      0.96      5244\n",
      "\n",
      "military\n",
      "             precision    recall  f1-score   support\n",
      "\n",
      "          0       0.98      0.98      0.98      5072\n",
      "          1       0.38      0.38      0.38       172\n",
      "\n",
      "avg / total       0.96      0.96      0.96      5244\n",
      "\n",
      "child_alone\n",
      "             precision    recall  f1-score   support\n",
      "\n",
      "          0       1.00      1.00      1.00      5244\n",
      "\n",
      "avg / total       1.00      1.00      1.00      5244\n",
      "\n",
      "water\n",
      "             precision    recall  f1-score   support\n",
      "\n",
      "          0       0.98      0.98      0.98      4924\n",
      "          1       0.65      0.63      0.64       320\n",
      "\n",
      "avg / total       0.96      0.96      0.96      5244\n",
      "\n",
      "food\n",
      "             precision    recall  f1-score   support\n",
      "\n",
      "          0       0.97      0.96      0.96      4670\n",
      "          1       0.70      0.72      0.71       574\n",
      "\n",
      "avg / total       0.94      0.94      0.94      5244\n",
      "\n",
      "shelter\n",
      "             precision    recall  f1-score   support\n",
      "\n",
      "          0       0.96      0.96      0.96      4802\n",
      "          1       0.59      0.59      0.59       442\n",
      "\n",
      "avg / total       0.93      0.93      0.93      5244\n",
      "\n",
      "clothing\n",
      "             precision    recall  f1-score   support\n",
      "\n",
      "          0       0.99      0.99      0.99      5160\n",
      "          1       0.52      0.45      0.48        84\n",
      "\n",
      "avg / total       0.98      0.98      0.98      5244\n",
      "\n",
      "money\n",
      "             precision    recall  f1-score   support\n",
      "\n",
      "          0       0.98      0.98      0.98      5106\n",
      "          1       0.34      0.33      0.33       138\n",
      "\n",
      "avg / total       0.96      0.97      0.97      5244\n",
      "\n",
      "missing_people\n",
      "             precision    recall  f1-score   support\n",
      "\n",
      "          0       0.99      0.99      0.99      5184\n",
      "          1       0.24      0.20      0.22        60\n",
      "\n",
      "avg / total       0.98      0.98      0.98      5244\n",
      "\n",
      "refugees\n",
      "             precision    recall  f1-score   support\n",
      "\n",
      "          0       0.98      0.98      0.98      5085\n",
      "          1       0.31      0.24      0.27       159\n",
      "\n",
      "avg / total       0.96      0.96      0.96      5244\n",
      "\n",
      "death\n",
      "             precision    recall  f1-score   support\n",
      "\n",
      "          0       0.98      0.98      0.98      4986\n",
      "          1       0.59      0.52      0.55       258\n",
      "\n",
      "avg / total       0.96      0.96      0.96      5244\n",
      "\n",
      "other_aid\n",
      "             precision    recall  f1-score   support\n",
      "\n",
      "          0       0.89      0.90      0.90      4545\n",
      "          1       0.31      0.29      0.30       699\n",
      "\n",
      "avg / total       0.81      0.82      0.82      5244\n",
      "\n",
      "infrastructure_related\n",
      "             precision    recall  f1-score   support\n",
      "\n",
      "          0       0.94      0.95      0.95      4910\n",
      "          1       0.16      0.13      0.15       334\n",
      "\n",
      "avg / total       0.89      0.90      0.90      5244\n",
      "\n",
      "transport\n",
      "             precision    recall  f1-score   support\n",
      "\n",
      "          0       0.96      0.97      0.96      4983\n",
      "          1       0.29      0.24      0.26       261\n",
      "\n",
      "avg / total       0.93      0.93      0.93      5244\n",
      "\n",
      "buildings\n",
      "             precision    recall  f1-score   support\n",
      "\n",
      "          0       0.97      0.97      0.97      4950\n",
      "          1       0.45      0.41      0.43       294\n",
      "\n",
      "avg / total       0.94      0.94      0.94      5244\n",
      "\n",
      "electricity\n",
      "             precision    recall  f1-score   support\n",
      "\n",
      "          0       0.98      0.99      0.99      5115\n",
      "          1       0.40      0.34      0.37       129\n",
      "\n",
      "avg / total       0.97      0.97      0.97      5244\n",
      "\n",
      "tools\n",
      "             precision    recall  f1-score   support\n",
      "\n",
      "          0       0.99      1.00      1.00      5213\n",
      "          1       0.19      0.13      0.15        31\n",
      "\n",
      "avg / total       0.99      0.99      0.99      5244\n",
      "\n",
      "hospitals\n",
      "             precision    recall  f1-score   support\n",
      "\n",
      "          0       0.99      0.99      0.99      5184\n",
      "          1       0.20      0.15      0.17        60\n",
      "\n",
      "avg / total       0.98      0.98      0.98      5244\n",
      "\n",
      "shops\n",
      "             precision    recall  f1-score   support\n",
      "\n",
      "          0       1.00      1.00      1.00      5222\n",
      "          1       0.04      0.05      0.04        22\n",
      "\n",
      "avg / total       0.99      0.99      0.99      5244\n",
      "\n",
      "aid_centers\n",
      "             precision    recall  f1-score   support\n",
      "\n",
      "          0       0.99      0.99      0.99      5186\n",
      "          1       0.05      0.03      0.04        58\n",
      "\n",
      "avg / total       0.98      0.98      0.98      5244\n",
      "\n",
      "other_infrastructure\n",
      "             precision    recall  f1-score   support\n",
      "\n",
      "          0       0.96      0.97      0.96      5007\n",
      "          1       0.16      0.14      0.14       237\n",
      "\n",
      "avg / total       0.92      0.93      0.93      5244\n",
      "\n",
      "weather_related\n",
      "             precision    recall  f1-score   support\n",
      "\n",
      "          0       0.89      0.91      0.90      3811\n",
      "          1       0.74      0.71      0.73      1433\n",
      "\n",
      "avg / total       0.85      0.85      0.85      5244\n",
      "\n",
      "floods\n",
      "             precision    recall  f1-score   support\n",
      "\n",
      "          0       0.96      0.97      0.97      4805\n",
      "          1       0.64      0.59      0.61       439\n",
      "\n",
      "avg / total       0.94      0.94      0.94      5244\n",
      "\n",
      "storm\n",
      "             precision    recall  f1-score   support\n",
      "\n",
      "          0       0.96      0.97      0.96      4762\n",
      "          1       0.65      0.64      0.65       482\n",
      "\n",
      "avg / total       0.93      0.94      0.94      5244\n",
      "\n",
      "fire\n",
      "             precision    recall  f1-score   support\n",
      "\n",
      "          0       0.99      0.99      0.99      5181\n",
      "          1       0.36      0.38      0.37        63\n",
      "\n",
      "avg / total       0.98      0.98      0.98      5244\n",
      "\n",
      "earthquake\n",
      "             precision    recall  f1-score   support\n",
      "\n",
      "          0       0.98      0.98      0.98      4762\n",
      "          1       0.79      0.78      0.78       482\n",
      "\n",
      "avg / total       0.96      0.96      0.96      5244\n",
      "\n",
      "cold\n",
      "             precision    recall  f1-score   support\n",
      "\n",
      "          0       0.99      0.99      0.99      5134\n",
      "          1       0.56      0.46      0.51       110\n",
      "\n",
      "avg / total       0.98      0.98      0.98      5244\n",
      "\n",
      "other_weather\n",
      "             precision    recall  f1-score   support\n",
      "\n",
      "          0       0.96      0.96      0.96      4995\n",
      "          1       0.22      0.22      0.22       249\n",
      "\n",
      "avg / total       0.93      0.93      0.93      5244\n",
      "\n",
      "direct_report\n",
      "             precision    recall  f1-score   support\n",
      "\n",
      "          0       0.88      0.89      0.89      4256\n",
      "          1       0.51      0.49      0.50       988\n",
      "\n",
      "avg / total       0.81      0.81      0.81      5244\n",
      "\n"
     ]
    }
   ],
   "source": [
    "# Alternative:\n",
    "for col in y_test.columns:\n",
    "    print(col)\n",
    "    print(classification_report(y_test.loc[:,col].values, y_pred.loc[:,col].values))"
   ]
  },
  {
   "cell_type": "markdown",
   "metadata": {},
   "source": [
    "### 6. Improve your model\n",
    "Use grid search to find better parameters. "
   ]
  },
  {
   "cell_type": "code",
   "execution_count": 5,
   "metadata": {
    "scrolled": true
   },
   "outputs": [
    {
     "data": {
      "text/plain": [
       "{'memory': None,\n",
       " 'steps': [('vect',\n",
       "   CountVectorizer(analyzer='word', binary=False, decode_error='strict',\n",
       "           dtype=<class 'numpy.int64'>, encoding='utf-8', input='content',\n",
       "           lowercase=True, max_df=1.0, max_features=None, min_df=1,\n",
       "           ngram_range=(1, 1), preprocessor=None, stop_words=None,\n",
       "           strip_accents=None, token_pattern='(?u)\\\\b\\\\w\\\\w+\\\\b',\n",
       "           tokenizer=<function tokenize at 0x7f133563c620>, vocabulary=None)),\n",
       "  ('tfidf',\n",
       "   TfidfTransformer(norm='l2', smooth_idf=True, sublinear_tf=False, use_idf=True)),\n",
       "  ('clf',\n",
       "   MultiOutputClassifier(estimator=DecisionTreeClassifier(class_weight=None, criterion='gini', max_depth=None,\n",
       "               max_features=None, max_leaf_nodes=None,\n",
       "               min_impurity_decrease=0.0, min_impurity_split=None,\n",
       "               min_samples_leaf=1, min_samples_split=2,\n",
       "               min_weight_fraction_leaf=0.0, presort=False, random_state=None,\n",
       "               splitter='best'),\n",
       "              n_jobs=1))],\n",
       " 'vect': CountVectorizer(analyzer='word', binary=False, decode_error='strict',\n",
       "         dtype=<class 'numpy.int64'>, encoding='utf-8', input='content',\n",
       "         lowercase=True, max_df=1.0, max_features=None, min_df=1,\n",
       "         ngram_range=(1, 1), preprocessor=None, stop_words=None,\n",
       "         strip_accents=None, token_pattern='(?u)\\\\b\\\\w\\\\w+\\\\b',\n",
       "         tokenizer=<function tokenize at 0x7f133563c620>, vocabulary=None),\n",
       " 'tfidf': TfidfTransformer(norm='l2', smooth_idf=True, sublinear_tf=False, use_idf=True),\n",
       " 'clf': MultiOutputClassifier(estimator=DecisionTreeClassifier(class_weight=None, criterion='gini', max_depth=None,\n",
       "             max_features=None, max_leaf_nodes=None,\n",
       "             min_impurity_decrease=0.0, min_impurity_split=None,\n",
       "             min_samples_leaf=1, min_samples_split=2,\n",
       "             min_weight_fraction_leaf=0.0, presort=False, random_state=None,\n",
       "             splitter='best'),\n",
       "            n_jobs=1),\n",
       " 'vect__analyzer': 'word',\n",
       " 'vect__binary': False,\n",
       " 'vect__decode_error': 'strict',\n",
       " 'vect__dtype': numpy.int64,\n",
       " 'vect__encoding': 'utf-8',\n",
       " 'vect__input': 'content',\n",
       " 'vect__lowercase': True,\n",
       " 'vect__max_df': 1.0,\n",
       " 'vect__max_features': None,\n",
       " 'vect__min_df': 1,\n",
       " 'vect__ngram_range': (1, 1),\n",
       " 'vect__preprocessor': None,\n",
       " 'vect__stop_words': None,\n",
       " 'vect__strip_accents': None,\n",
       " 'vect__token_pattern': '(?u)\\\\b\\\\w\\\\w+\\\\b',\n",
       " 'vect__tokenizer': <function __main__.tokenize(text)>,\n",
       " 'vect__vocabulary': None,\n",
       " 'tfidf__norm': 'l2',\n",
       " 'tfidf__smooth_idf': True,\n",
       " 'tfidf__sublinear_tf': False,\n",
       " 'tfidf__use_idf': True,\n",
       " 'clf__estimator__class_weight': None,\n",
       " 'clf__estimator__criterion': 'gini',\n",
       " 'clf__estimator__max_depth': None,\n",
       " 'clf__estimator__max_features': None,\n",
       " 'clf__estimator__max_leaf_nodes': None,\n",
       " 'clf__estimator__min_impurity_decrease': 0.0,\n",
       " 'clf__estimator__min_impurity_split': None,\n",
       " 'clf__estimator__min_samples_leaf': 1,\n",
       " 'clf__estimator__min_samples_split': 2,\n",
       " 'clf__estimator__min_weight_fraction_leaf': 0.0,\n",
       " 'clf__estimator__presort': False,\n",
       " 'clf__estimator__random_state': None,\n",
       " 'clf__estimator__splitter': 'best',\n",
       " 'clf__estimator': DecisionTreeClassifier(class_weight=None, criterion='gini', max_depth=None,\n",
       "             max_features=None, max_leaf_nodes=None,\n",
       "             min_impurity_decrease=0.0, min_impurity_split=None,\n",
       "             min_samples_leaf=1, min_samples_split=2,\n",
       "             min_weight_fraction_leaf=0.0, presort=False, random_state=None,\n",
       "             splitter='best'),\n",
       " 'clf__n_jobs': 1}"
      ]
     },
     "execution_count": 5,
     "metadata": {},
     "output_type": "execute_result"
    }
   ],
   "source": [
    "# List all parameters from pipeline\n",
    "pipeline.get_params()"
   ]
  },
  {
   "cell_type": "code",
   "execution_count": 7,
   "metadata": {},
   "outputs": [],
   "source": [
    "X_train, X_test, y_train, y_test = train_test_split(X, Y, test_size=0.2, random_state=21)"
   ]
  },
  {
   "cell_type": "code",
   "execution_count": 12,
   "metadata": {
    "scrolled": true
   },
   "outputs": [
    {
     "name": "stdout",
     "output_type": "stream",
     "text": [
      "Fitting 3 folds for each of 9 candidates, totalling 27 fits\n",
      "[CV] clf__estimator__max_depth=5, clf__estimator__min_samples_leaf=10 \n",
      "[CV]  clf__estimator__max_depth=5, clf__estimator__min_samples_leaf=10, score=0.22929480760978402, total=  12.7s\n",
      "[CV] clf__estimator__max_depth=5, clf__estimator__min_samples_leaf=10 \n"
     ]
    },
    {
     "name": "stderr",
     "output_type": "stream",
     "text": [
      "[Parallel(n_jobs=-1)]: Done   1 out of   1 | elapsed:   15.5s remaining:    0.0s\n"
     ]
    },
    {
     "name": "stdout",
     "output_type": "stream",
     "text": [
      "[CV]  clf__estimator__max_depth=5, clf__estimator__min_samples_leaf=10, score=0.2268631097124875, total=  12.6s\n",
      "[CV] clf__estimator__max_depth=5, clf__estimator__min_samples_leaf=10 \n"
     ]
    },
    {
     "name": "stderr",
     "output_type": "stream",
     "text": [
      "[Parallel(n_jobs=-1)]: Done   2 out of   2 | elapsed:   31.0s remaining:    0.0s\n"
     ]
    },
    {
     "name": "stdout",
     "output_type": "stream",
     "text": [
      "[CV]  clf__estimator__max_depth=5, clf__estimator__min_samples_leaf=10, score=0.2369098712446352, total=  12.5s\n",
      "[CV] clf__estimator__max_depth=5, clf__estimator__min_samples_leaf=20 \n",
      "[CV]  clf__estimator__max_depth=5, clf__estimator__min_samples_leaf=20, score=0.22815047918752682, total=  12.1s\n",
      "[CV] clf__estimator__max_depth=5, clf__estimator__min_samples_leaf=20 \n",
      "[CV]  clf__estimator__max_depth=5, clf__estimator__min_samples_leaf=20, score=0.2260048633957946, total=  12.2s\n",
      "[CV] clf__estimator__max_depth=5, clf__estimator__min_samples_leaf=20 \n",
      "[CV]  clf__estimator__max_depth=5, clf__estimator__min_samples_leaf=20, score=0.23762517882689557, total=  12.2s\n",
      "[CV] clf__estimator__max_depth=5, clf__estimator__min_samples_leaf=50 \n",
      "[CV]  clf__estimator__max_depth=5, clf__estimator__min_samples_leaf=50, score=0.23415820340437707, total=  11.8s\n",
      "[CV] clf__estimator__max_depth=5, clf__estimator__min_samples_leaf=50 \n",
      "[CV]  clf__estimator__max_depth=5, clf__estimator__min_samples_leaf=50, score=0.22586182234301244, total=  11.8s\n",
      "[CV] clf__estimator__max_depth=5, clf__estimator__min_samples_leaf=50 \n",
      "[CV]  clf__estimator__max_depth=5, clf__estimator__min_samples_leaf=50, score=0.2363376251788269, total=  11.6s\n",
      "[CV] clf__estimator__max_depth=10, clf__estimator__min_samples_leaf=10 \n",
      "[CV]  clf__estimator__max_depth=10, clf__estimator__min_samples_leaf=10, score=0.22228579602345874, total=  20.9s\n",
      "[CV] clf__estimator__max_depth=10, clf__estimator__min_samples_leaf=10 \n",
      "[CV]  clf__estimator__max_depth=10, clf__estimator__min_samples_leaf=10, score=0.22958088971534832, total=  20.9s\n",
      "[CV] clf__estimator__max_depth=10, clf__estimator__min_samples_leaf=10 \n",
      "[CV]  clf__estimator__max_depth=10, clf__estimator__min_samples_leaf=10, score=0.23562231759656652, total=  21.0s\n",
      "[CV] clf__estimator__max_depth=10, clf__estimator__min_samples_leaf=20 \n",
      "[CV]  clf__estimator__max_depth=10, clf__estimator__min_samples_leaf=20, score=0.2307252181376055, total=  19.7s\n",
      "[CV] clf__estimator__max_depth=10, clf__estimator__min_samples_leaf=20 \n",
      "[CV]  clf__estimator__max_depth=10, clf__estimator__min_samples_leaf=20, score=0.23229866971820912, total=  19.8s\n",
      "[CV] clf__estimator__max_depth=10, clf__estimator__min_samples_leaf=20 \n",
      "[CV]  clf__estimator__max_depth=10, clf__estimator__min_samples_leaf=20, score=0.23390557939914164, total=  20.0s\n",
      "[CV] clf__estimator__max_depth=10, clf__estimator__min_samples_leaf=50 \n",
      "[CV]  clf__estimator__max_depth=10, clf__estimator__min_samples_leaf=50, score=0.2343012444571592, total=  18.3s\n",
      "[CV] clf__estimator__max_depth=10, clf__estimator__min_samples_leaf=50 \n",
      "[CV]  clf__estimator__max_depth=10, clf__estimator__min_samples_leaf=50, score=0.23344299814046632, total=  18.5s\n",
      "[CV] clf__estimator__max_depth=10, clf__estimator__min_samples_leaf=50 \n",
      "[CV]  clf__estimator__max_depth=10, clf__estimator__min_samples_leaf=50, score=0.23848354792560802, total=  18.5s\n",
      "[CV] clf__estimator__max_depth=20, clf__estimator__min_samples_leaf=10 \n",
      "[CV]  clf__estimator__max_depth=20, clf__estimator__min_samples_leaf=10, score=0.22228579602345874, total=  36.0s\n",
      "[CV] clf__estimator__max_depth=20, clf__estimator__min_samples_leaf=10 \n",
      "[CV]  clf__estimator__max_depth=20, clf__estimator__min_samples_leaf=10, score=0.2257187812902303, total=  36.0s\n",
      "[CV] clf__estimator__max_depth=20, clf__estimator__min_samples_leaf=10 \n",
      "[CV]  clf__estimator__max_depth=20, clf__estimator__min_samples_leaf=10, score=0.21659513590844062, total=  36.2s\n",
      "[CV] clf__estimator__max_depth=20, clf__estimator__min_samples_leaf=20 \n",
      "[CV]  clf__estimator__max_depth=20, clf__estimator__min_samples_leaf=20, score=0.22643398655414104, total=  33.5s\n",
      "[CV] clf__estimator__max_depth=20, clf__estimator__min_samples_leaf=20 \n",
      "[CV]  clf__estimator__max_depth=20, clf__estimator__min_samples_leaf=20, score=0.225432699184666, total=  33.7s\n",
      "[CV] clf__estimator__max_depth=20, clf__estimator__min_samples_leaf=20 \n",
      "[CV]  clf__estimator__max_depth=20, clf__estimator__min_samples_leaf=20, score=0.23061516452074393, total=  33.8s\n",
      "[CV] clf__estimator__max_depth=20, clf__estimator__min_samples_leaf=50 \n",
      "[CV]  clf__estimator__max_depth=20, clf__estimator__min_samples_leaf=50, score=0.22929480760978402, total=  30.5s\n",
      "[CV] clf__estimator__max_depth=20, clf__estimator__min_samples_leaf=50 \n",
      "[CV]  clf__estimator__max_depth=20, clf__estimator__min_samples_leaf=50, score=0.22614790444857674, total=  30.7s\n",
      "[CV] clf__estimator__max_depth=20, clf__estimator__min_samples_leaf=50 \n",
      "[CV]  clf__estimator__max_depth=20, clf__estimator__min_samples_leaf=50, score=0.23547925608011444, total=  30.5s\n"
     ]
    },
    {
     "name": "stderr",
     "output_type": "stream",
     "text": [
      "[Parallel(n_jobs=-1)]: Done  27 out of  27 | elapsed: 11.1min finished\n"
     ]
    },
    {
     "data": {
      "text/plain": [
       "{'clf__estimator__max_depth': 10, 'clf__estimator__min_samples_leaf': 50}"
      ]
     },
     "execution_count": 12,
     "metadata": {},
     "output_type": "execute_result"
    }
   ],
   "source": [
    "'''\n",
    "Crucial parameters https://scikit-learn.org/stable/modules/generated/sklearn.tree.DecisionTreeClassifier.html \n",
    "to avoid fully grown and unpruned trees in decision tree classifier algorithms:\n",
    "- clf__estimator__max_depth\n",
    "- clf__estimator__min_samples_leaf\n",
    "'''\n",
    "parameters = {'clf__estimator__max_depth': [5,10,20],\n",
    "                'clf__estimator__min_samples_leaf': [10,20,50]}\n",
    "\n",
    "cv = GridSearchCV(pipeline, parameters, n_jobs=-1, verbose=3)\n",
    "cv.fit(X_train, y_train)\n",
    "cv.best_params_"
   ]
  },
  {
   "cell_type": "markdown",
   "metadata": {},
   "source": [
    "### 7. Test your model\n",
    "Show the accuracy, precision, and recall of the tuned model.  \n",
    "\n",
    "Since this project focuses on code quality, process, and  pipelines, there is no minimum performance metric needed to pass. However, make sure to fine tune your models for accuracy, precision and recall to make your project stand out - especially for your portfolio!"
   ]
  },
  {
   "cell_type": "code",
   "execution_count": 13,
   "metadata": {},
   "outputs": [
    {
     "data": {
      "text/plain": [
       "{'clf__estimator__max_depth': 10, 'clf__estimator__min_samples_leaf': 50}"
      ]
     },
     "execution_count": 13,
     "metadata": {},
     "output_type": "execute_result"
    }
   ],
   "source": [
    "cv.best_params_"
   ]
  },
  {
   "cell_type": "code",
   "execution_count": 14,
   "metadata": {
    "scrolled": true
   },
   "outputs": [
    {
     "name": "stdout",
     "output_type": "stream",
     "text": [
      "                        precision    recall  f1-score   support\n",
      "\n",
      "               related       0.82      0.93      0.87      4037\n",
      "               request       0.70      0.52      0.60       877\n",
      "                 offer       0.00      0.00      0.00        21\n",
      "           aid_related       0.72      0.50      0.59      2158\n",
      "          medical_help       0.56      0.27      0.37       432\n",
      "      medical_products       0.74      0.31      0.44       252\n",
      "     search_and_rescue       0.70      0.12      0.21       171\n",
      "              security       0.00      0.00      0.00       106\n",
      "              military       0.47      0.25      0.33       172\n",
      "           child_alone       0.00      0.00      0.00         0\n",
      "                 water       0.72      0.61      0.66       320\n",
      "                  food       0.78      0.72      0.75       574\n",
      "               shelter       0.76      0.58      0.66       442\n",
      "              clothing       0.69      0.49      0.57        84\n",
      "                 money       0.63      0.14      0.23       138\n",
      "        missing_people       0.68      0.25      0.37        60\n",
      "              refugees       0.62      0.22      0.33       159\n",
      "                 death       0.72      0.49      0.58       258\n",
      "             other_aid       0.55      0.13      0.22       699\n",
      "infrastructure_related       0.42      0.05      0.09       334\n",
      "             transport       0.64      0.19      0.29       261\n",
      "             buildings       0.64      0.23      0.34       294\n",
      "           electricity       0.54      0.29      0.37       129\n",
      "                 tools       0.00      0.00      0.00        31\n",
      "             hospitals       0.00      0.00      0.00        60\n",
      "                 shops       0.00      0.00      0.00        22\n",
      "           aid_centers       0.00      0.00      0.00        58\n",
      "  other_infrastructure       0.00      0.00      0.00       237\n",
      "       weather_related       0.85      0.63      0.72      1433\n",
      "                floods       0.90      0.53      0.66       439\n",
      "                 storm       0.71      0.63      0.67       482\n",
      "                  fire       0.61      0.35      0.44        63\n",
      "            earthquake       0.89      0.79      0.84       482\n",
      "                  cold       0.67      0.35      0.46       110\n",
      "         other_weather       0.48      0.17      0.25       249\n",
      "         direct_report       0.67      0.42      0.52       988\n",
      "\n",
      "           avg / total       0.71      0.56      0.60     16632\n",
      "\n"
     ]
    },
    {
     "name": "stderr",
     "output_type": "stream",
     "text": [
      "/opt/conda/lib/python3.6/site-packages/sklearn/metrics/classification.py:1135: UndefinedMetricWarning: Precision and F-score are ill-defined and being set to 0.0 in labels with no predicted samples.\n",
      "  'precision', 'predicted', average, warn_for)\n",
      "/opt/conda/lib/python3.6/site-packages/sklearn/metrics/classification.py:1137: UndefinedMetricWarning: Recall and F-score are ill-defined and being set to 0.0 in labels with no true samples.\n",
      "  'recall', 'true', average, warn_for)\n"
     ]
    }
   ],
   "source": [
    "# Infer test data with trained model\n",
    "y_pred = cv.predict(X_test)\n",
    "y_pred = pd.DataFrame(y_pred, columns=y_test.columns)\n",
    "\n",
    "print(classification_report(y_test.values, y_pred.values, target_names=y_test.columns.values))"
   ]
  },
  {
   "cell_type": "markdown",
   "metadata": {},
   "source": [
    "### 8. Try improving your model further. Here are a few ideas:\n",
    "* try other machine learning algorithms\n",
    "* add other features besides the TF-IDF"
   ]
  },
  {
   "cell_type": "code",
   "execution_count": 24,
   "metadata": {
    "scrolled": true
   },
   "outputs": [],
   "source": [
    "'''\n",
    "Model to try: RandomForestClassifier (ensemble model)\n",
    "Additional features: HashingVectorizer\n",
    "'''\n",
    "pipeline2 =  Pipeline([\n",
    "                ('vect', CountVectorizer(tokenizer=tokenize)),\n",
    "                ('tfidf', TfidfTransformer()),\n",
    "                ('clf', MultiOutputClassifier(RandomForestClassifier()))\n",
    "                ])"
   ]
  },
  {
   "cell_type": "code",
   "execution_count": 25,
   "metadata": {
    "scrolled": true
   },
   "outputs": [
    {
     "name": "stdout",
     "output_type": "stream",
     "text": [
      "                        precision    recall  f1-score   support\n",
      "\n",
      "               related       0.84      0.92      0.88      4037\n",
      "               request       0.84      0.37      0.51       877\n",
      "                 offer       0.00      0.00      0.00        21\n",
      "           aid_related       0.74      0.51      0.60      2158\n",
      "          medical_help       0.56      0.06      0.11       432\n",
      "      medical_products       0.67      0.10      0.18       252\n",
      "     search_and_rescue       0.80      0.02      0.05       171\n",
      "              security       0.00      0.00      0.00       106\n",
      "              military       0.67      0.07      0.13       172\n",
      "           child_alone       0.00      0.00      0.00         0\n",
      "                 water       0.90      0.23      0.36       320\n",
      "                  food       0.89      0.38      0.53       574\n",
      "               shelter       0.83      0.23      0.36       442\n",
      "              clothing       0.74      0.20      0.32        84\n",
      "                 money       0.57      0.03      0.06       138\n",
      "        missing_people       1.00      0.02      0.03        60\n",
      "              refugees       0.60      0.02      0.04       159\n",
      "                 death       0.77      0.09      0.16       258\n",
      "             other_aid       0.48      0.03      0.06       699\n",
      "infrastructure_related       0.30      0.01      0.02       334\n",
      "             transport       0.67      0.04      0.07       261\n",
      "             buildings       0.75      0.06      0.11       294\n",
      "           electricity       0.71      0.08      0.14       129\n",
      "                 tools       0.00      0.00      0.00        31\n",
      "             hospitals       0.00      0.00      0.00        60\n",
      "                 shops       0.00      0.00      0.00        22\n",
      "           aid_centers       0.00      0.00      0.00        58\n",
      "  other_infrastructure       0.33      0.00      0.01       237\n",
      "       weather_related       0.83      0.55      0.66      1433\n",
      "                floods       0.88      0.19      0.31       439\n",
      "                 storm       0.76      0.37      0.50       482\n",
      "                  fire       0.75      0.05      0.09        63\n",
      "            earthquake       0.89      0.66      0.76       482\n",
      "                  cold       0.83      0.09      0.16       110\n",
      "         other_weather       0.20      0.01      0.02       249\n",
      "         direct_report       0.76      0.30      0.43       988\n",
      "\n",
      "           avg / total       0.74      0.44      0.50     16632\n",
      "\n"
     ]
    },
    {
     "name": "stderr",
     "output_type": "stream",
     "text": [
      "/opt/conda/lib/python3.6/site-packages/sklearn/metrics/classification.py:1135: UndefinedMetricWarning: Precision and F-score are ill-defined and being set to 0.0 in labels with no predicted samples.\n",
      "  'precision', 'predicted', average, warn_for)\n",
      "/opt/conda/lib/python3.6/site-packages/sklearn/metrics/classification.py:1137: UndefinedMetricWarning: Recall and F-score are ill-defined and being set to 0.0 in labels with no true samples.\n",
      "  'recall', 'true', average, warn_for)\n"
     ]
    }
   ],
   "source": [
    "pipeline2.fit(X_train, y_train)\n",
    "\n",
    "# Infer test data with trained model\n",
    "y_pred = pipeline2.predict(X_test)\n",
    "y_pred = pd.DataFrame(y_pred, columns=y_test.columns)\n",
    "\n",
    "print(classification_report(y_test.values, y_pred.values, target_names=y_test.columns.values))"
   ]
  },
  {
   "cell_type": "markdown",
   "metadata": {},
   "source": [
    "### 9. Export your model as a pickle file"
   ]
  },
  {
   "cell_type": "code",
   "execution_count": 27,
   "metadata": {
    "scrolled": true
   },
   "outputs": [
    {
     "data": {
      "text/plain": [
       "['classifier.pkl']"
      ]
     },
     "execution_count": 27,
     "metadata": {},
     "output_type": "execute_result"
    }
   ],
   "source": [
    "joblib.dump(cv.best_estimator_, 'classifier.pkl')"
   ]
  },
  {
   "cell_type": "markdown",
   "metadata": {},
   "source": [
    "### 10. Use this notebook to complete `train.py`\n",
    "Use the template file attached in the Resources folder to write a script that runs the steps above to create a database and export a model based on a new dataset specified by the user."
   ]
  }
 ],
 "metadata": {
  "kernelspec": {
   "display_name": "Python 3.10.4 ('nano')",
   "language": "python",
   "name": "python3"
  },
  "language_info": {
   "codemirror_mode": {
    "name": "ipython",
    "version": 3
   },
   "file_extension": ".py",
   "mimetype": "text/x-python",
   "name": "python",
   "nbconvert_exporter": "python",
   "pygments_lexer": "ipython3",
   "version": "3.10.4"
  },
  "vscode": {
   "interpreter": {
    "hash": "f300581d747957042cedc3011508cc9664f9190d4f1b6b779a7c401657c2d1f6"
   }
  }
 },
 "nbformat": 4,
 "nbformat_minor": 2
}
